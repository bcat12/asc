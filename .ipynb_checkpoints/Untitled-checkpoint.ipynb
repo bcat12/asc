{
 "cells": [
  {
   "cell_type": "code",
   "execution_count": 126,
   "metadata": {},
   "outputs": [],
   "source": [
    "import pandas as pd\n",
    "import numpy as np\n",
    "import matplotlib.pyplot as plt\n",
    "import seaborn as sns\n",
    "import scipy"
   ]
  },
  {
   "cell_type": "code",
   "execution_count": null,
   "metadata": {},
   "outputs": [],
   "source": [
    "df= pd.read_csv(r\"C:\\Users\\Brian\\Desktop\\arvo424.csv\")"
   ]
  },
  {
   "cell_type": "code",
   "execution_count": null,
   "metadata": {},
   "outputs": [],
   "source": [
    "df.head()"
   ]
  },
  {
   "cell_type": "code",
   "execution_count": 34,
   "metadata": {},
   "outputs": [
    {
     "data": {
      "text/plain": [
       "231"
      ]
     },
     "execution_count": 34,
     "metadata": {},
     "output_type": "execute_result"
    }
   ],
   "source": [
    "len(df)"
   ]
  },
  {
   "cell_type": "code",
   "execution_count": 35,
   "metadata": {},
   "outputs": [
    {
     "data": {
      "text/html": [
       "<div>\n",
       "<style scoped>\n",
       "    .dataframe tbody tr th:only-of-type {\n",
       "        vertical-align: middle;\n",
       "    }\n",
       "\n",
       "    .dataframe tbody tr th {\n",
       "        vertical-align: top;\n",
       "    }\n",
       "\n",
       "    .dataframe thead th {\n",
       "        text-align: right;\n",
       "    }\n",
       "</style>\n",
       "<table border=\"1\" class=\"dataframe\">\n",
       "  <thead>\n",
       "    <tr style=\"text-align: right;\">\n",
       "      <th></th>\n",
       "      <th>Disc Anom-N</th>\n",
       "      <th>VCDR-N</th>\n",
       "      <th>DR#-N</th>\n",
       "      <th>Exu#-N</th>\n",
       "      <th>MicroA#-N</th>\n",
       "      <th>Hem#-N</th>\n",
       "    </tr>\n",
       "  </thead>\n",
       "  <tbody>\n",
       "    <tr>\n",
       "      <th>count</th>\n",
       "      <td>231.000000</td>\n",
       "      <td>231.000000</td>\n",
       "      <td>231.000000</td>\n",
       "      <td>231.000000</td>\n",
       "      <td>231.000000</td>\n",
       "      <td>231.000000</td>\n",
       "    </tr>\n",
       "    <tr>\n",
       "      <th>mean</th>\n",
       "      <td>0.393160</td>\n",
       "      <td>0.323247</td>\n",
       "      <td>0.389610</td>\n",
       "      <td>0.025974</td>\n",
       "      <td>0.329004</td>\n",
       "      <td>0.038961</td>\n",
       "    </tr>\n",
       "    <tr>\n",
       "      <th>std</th>\n",
       "      <td>0.439859</td>\n",
       "      <td>0.124723</td>\n",
       "      <td>0.570793</td>\n",
       "      <td>0.159403</td>\n",
       "      <td>0.470872</td>\n",
       "      <td>0.193922</td>\n",
       "    </tr>\n",
       "    <tr>\n",
       "      <th>min</th>\n",
       "      <td>0.010000</td>\n",
       "      <td>0.010000</td>\n",
       "      <td>0.000000</td>\n",
       "      <td>0.000000</td>\n",
       "      <td>0.000000</td>\n",
       "      <td>0.000000</td>\n",
       "    </tr>\n",
       "    <tr>\n",
       "      <th>25%</th>\n",
       "      <td>0.010000</td>\n",
       "      <td>0.230000</td>\n",
       "      <td>0.000000</td>\n",
       "      <td>0.000000</td>\n",
       "      <td>0.000000</td>\n",
       "      <td>0.000000</td>\n",
       "    </tr>\n",
       "    <tr>\n",
       "      <th>50%</th>\n",
       "      <td>0.030000</td>\n",
       "      <td>0.310000</td>\n",
       "      <td>0.000000</td>\n",
       "      <td>0.000000</td>\n",
       "      <td>0.000000</td>\n",
       "      <td>0.000000</td>\n",
       "    </tr>\n",
       "    <tr>\n",
       "      <th>75%</th>\n",
       "      <td>0.950000</td>\n",
       "      <td>0.385000</td>\n",
       "      <td>1.000000</td>\n",
       "      <td>0.000000</td>\n",
       "      <td>1.000000</td>\n",
       "      <td>0.000000</td>\n",
       "    </tr>\n",
       "    <tr>\n",
       "      <th>max</th>\n",
       "      <td>1.000000</td>\n",
       "      <td>0.670000</td>\n",
       "      <td>2.000000</td>\n",
       "      <td>1.000000</td>\n",
       "      <td>1.000000</td>\n",
       "      <td>1.000000</td>\n",
       "    </tr>\n",
       "  </tbody>\n",
       "</table>\n",
       "</div>"
      ],
      "text/plain": [
       "       Disc Anom-N      VCDR-N       DR#-N      Exu#-N   MicroA#-N      Hem#-N\n",
       "count   231.000000  231.000000  231.000000  231.000000  231.000000  231.000000\n",
       "mean      0.393160    0.323247    0.389610    0.025974    0.329004    0.038961\n",
       "std       0.439859    0.124723    0.570793    0.159403    0.470872    0.193922\n",
       "min       0.010000    0.010000    0.000000    0.000000    0.000000    0.000000\n",
       "25%       0.010000    0.230000    0.000000    0.000000    0.000000    0.000000\n",
       "50%       0.030000    0.310000    0.000000    0.000000    0.000000    0.000000\n",
       "75%       0.950000    0.385000    1.000000    0.000000    1.000000    0.000000\n",
       "max       1.000000    0.670000    2.000000    1.000000    1.000000    1.000000"
      ]
     },
     "execution_count": 35,
     "metadata": {},
     "output_type": "execute_result"
    }
   ],
   "source": [
    "df.describe()"
   ]
  },
  {
   "cell_type": "code",
   "execution_count": 36,
   "metadata": {},
   "outputs": [
    {
     "data": {
      "text/plain": [
       "PT                0\n",
       "Reading           0\n",
       "Eye               0\n",
       "Disc Anom-N       0\n",
       "VCDR-N            0\n",
       "DR?-N             0\n",
       "DR#-N             0\n",
       "Exudate-N         0\n",
       "Exu#-N            0\n",
       "Micro-A_N         0\n",
       "MicroA#-N         0\n",
       "Hemmhorrage -N    0\n",
       "Hem#-N            0\n",
       "dtype: int64"
      ]
     },
     "execution_count": 36,
     "metadata": {},
     "output_type": "execute_result"
    }
   ],
   "source": [
    "df.isna().sum()"
   ]
  },
  {
   "cell_type": "code",
   "execution_count": 37,
   "metadata": {},
   "outputs": [
    {
     "data": {
      "text/plain": [
       "Nx     116\n",
       "Enh    115\n",
       "Name: Reading, dtype: int64"
      ]
     },
     "execution_count": 37,
     "metadata": {},
     "output_type": "execute_result"
    }
   ],
   "source": [
    "df.Reading.value_counts()\n"
   ]
  },
  {
   "cell_type": "code",
   "execution_count": 38,
   "metadata": {},
   "outputs": [],
   "source": [
    "dfnon = df.loc[df[\"Reading\"] == 'Nx']\n",
    "dfenh = df.loc[df[\"Reading\"] == 'Enh']"
   ]
  },
  {
   "cell_type": "code",
   "execution_count": 39,
   "metadata": {
    "scrolled": true
   },
   "outputs": [
    {
     "name": "stdout",
     "output_type": "stream",
     "text": [
      "116\n",
      "115\n"
     ]
    }
   ],
   "source": [
    "print(len(dfnon))\n",
    "print(len(dfenh))"
   ]
  },
  {
   "cell_type": "code",
   "execution_count": 40,
   "metadata": {},
   "outputs": [
    {
     "name": "stdout",
     "output_type": "stream",
     "text": [
      "Nx    116\n",
      "Name: Reading, dtype: int64\n",
      "Enh    115\n",
      "Name: Reading, dtype: int64\n"
     ]
    }
   ],
   "source": [
    "print(dfnon.Reading.value_counts())\n",
    "print(dfenh.Reading.value_counts())"
   ]
  },
  {
   "cell_type": "code",
   "execution_count": 41,
   "metadata": {},
   "outputs": [
    {
     "data": {
      "text/plain": [
       "Normal      151\n",
       "Mild         70\n",
       "Moderate     10\n",
       "Name: DR?-N, dtype: int64"
      ]
     },
     "execution_count": 41,
     "metadata": {},
     "output_type": "execute_result"
    }
   ],
   "source": [
    "df['DR?-N'].value_counts()"
   ]
  },
  {
   "cell_type": "code",
   "execution_count": 44,
   "metadata": {},
   "outputs": [
    {
     "data": {
      "text/plain": [
       "Index(['PT', 'Reading', 'Eye', 'Disc Anom-N', 'VCDR-N', 'DR?-N', 'DR#-N',\n",
       "       'Exudate-N', 'Exu#-N', 'Micro-A_N', 'MicroA#-N', 'Hemmhorrage -N',\n",
       "       'Hem#-N'],\n",
       "      dtype='object')"
      ]
     },
     "execution_count": 44,
     "metadata": {},
     "output_type": "execute_result"
    }
   ],
   "source": [
    "df.columns"
   ]
  },
  {
   "cell_type": "code",
   "execution_count": 86,
   "metadata": {},
   "outputs": [],
   "source": [
    "non = [dfnon['DR#-N'].mean() , dfnon['Exu#-N'].mean() , dfnon['MicroA#-N'].mean() , dfnon['Hem#-N'].mean()]\n",
    "enh = [dfenh['DR#-N'].mean() , dfenh['Exu#-N'].mean() , dfenh['MicroA#-N'].mean() , dfenh['Hem#-N'].mean()]\n",
    "labels = ['DR', 'Exu', 'MicroA', 'Hem']"
   ]
  },
  {
   "cell_type": "code",
   "execution_count": 87,
   "metadata": {},
   "outputs": [
    {
     "name": "stdout",
     "output_type": "stream",
     "text": [
      "[0.4482758620689655, 0.034482758620689655, 0.31896551724137934, 0.034482758620689655] [0.33043478260869563, 0.017391304347826087, 0.3391304347826087, 0.043478260869565216]\n"
     ]
    }
   ],
   "source": [
    "print(non, enh)"
   ]
  },
  {
   "cell_type": "code",
   "execution_count": 116,
   "metadata": {},
   "outputs": [
    {
     "data": {
      "image/png": "[encoded data removed]",
      "text/plain": [
       "<Figure size 432x288 with 1 Axes>"
      ]
     },
     "metadata": {},
     "output_type": "display_data"
    }
   ],
   "source": [
    "df1 = pd.DataFrame(np.c_[non,enh], index=labels)\n",
    "df1.plot.bar(color = ('darkgray' , 'deepskyblue'))\n",
    "plt.xticks(fontsize = 13 , rotation=0)\n",
    "plt.yticks(fontsize = 13)\n",
    "plt.xlabel('Variable Reading', fontsize = 20)\n",
    "plt.ylabel('Average Value', fontsize = 20)\n",
    "plt.legend(['Non Enhanced' , 'Enhanced'], fontsize = 12)\n",
    "plt.title('Effect of OS\\u2122 on AI Readings', fontsize = 22)\n",
    "plt.show()"
   ]
  },
  {
   "cell_type": "code",
   "execution_count": null,
   "metadata": {},
   "outputs": [],
   "source": []
  }
 ],
 "metadata": {
  "kernelspec": {
   "display_name": "Python 3",
   "language": "python",
   "name": "python3"
  },
  "language_info": {
   "codemirror_mode": {
    "name": "ipython",
    "version": 3
   },
   "file_extension": ".py",
   "mimetype": "text/x-python",
   "name": "python",
   "nbconvert_exporter": "python",
   "pygments_lexer": "ipython3",
   "version": "3.6.5"
  }
 },
 "nbformat": 4,
 "nbformat_minor": 2
}
